{
 "cells": [
  {
   "cell_type": "code",
   "execution_count": 1,
   "metadata": {},
   "outputs": [],
   "source": [
    "import pandas as pd\n",
    "from pathlib import Path\n",
    "from tqdm import tqdm"
   ]
  },
  {
   "cell_type": "code",
   "execution_count": 2,
   "metadata": {},
   "outputs": [
    {
     "name": "stderr",
     "output_type": "stream",
     "text": [
      "2023-03-16 19:29:25.772603: I tensorflow/core/platform/cpu_feature_guard.cc:193] This TensorFlow binary is optimized with oneAPI Deep Neural Network Library (oneDNN) to use the following CPU instructions in performance-critical operations:  SSE4.1 SSE4.2 AVX AVX2 FMA\n",
      "To enable them in other operations, rebuild TensorFlow with the appropriate compiler flags.\n"
     ]
    }
   ],
   "source": [
    "from transformers import pipeline"
   ]
  },
  {
   "cell_type": "code",
   "execution_count": 4,
   "metadata": {
    "tags": []
   },
   "outputs": [],
   "source": [
    "df = pd.DataFrame()\n",
    "\n",
    "# Add Code here to extract more data from the text (sentiment etc and add it to the assign function as a lambda. e.g. sentiment = lambda x: sentiment_func(x[\"TEXT\"]) )\n",
    "for path in (Path.cwd() / \"Dataset\").glob(\"**/*.xml\"):\n",
    "    year, manufacturer, *model = path.stem.split(\"_\")\n",
    "    try:\n",
    "        with open(path, \"r\", encoding=\"unicode_escape\") as f:\n",
    "            data = f.readlines()\n",
    "        data = \"<root>\" + \"\".join(data[1:]) + \"</root>\"\n",
    "        data = data.replace(\"&\", \"&amp;\")\n",
    "        temp = pd.read_xml(data)\n",
    "        temp = temp.assign(YEAR=year, MANUFACTURER=manufacturer, MODEL=\" \".join(model))\n",
    "        df = pd.concat([df, temp])\n",
    "        # Preprocess text (username and link placeholders)\n",
    "\n",
    "    except Exception as e:\n",
    "        print(path.stem, e)"
   ]
  },
  {
   "cell_type": "code",
   "execution_count": 7,
   "metadata": {},
   "outputs": [
    {
     "data": {
      "text/html": [
       "<div>\n",
       "<style scoped>\n",
       "    .dataframe tbody tr th:only-of-type {\n",
       "        vertical-align: middle;\n",
       "    }\n",
       "\n",
       "    .dataframe tbody tr th {\n",
       "        vertical-align: top;\n",
       "    }\n",
       "\n",
       "    .dataframe thead th {\n",
       "        text-align: right;\n",
       "    }\n",
       "</style>\n",
       "<table border=\"1\" class=\"dataframe\">\n",
       "  <thead>\n",
       "    <tr style=\"text-align: right;\">\n",
       "      <th></th>\n",
       "      <th>DATE</th>\n",
       "      <th>AUTHOR</th>\n",
       "      <th>TEXT</th>\n",
       "      <th>FAVORITE</th>\n",
       "      <th>year</th>\n",
       "      <th>manufacturer</th>\n",
       "      <th>model</th>\n",
       "    </tr>\n",
       "  </thead>\n",
       "  <tbody>\n",
       "    <tr>\n",
       "      <th>0</th>\n",
       "      <td>10/17/2009</td>\n",
       "      <td>kmbkat</td>\n",
       "      <td>Bought my Mini new in 2/08 and the fuel pump w...</td>\n",
       "      <td>None</td>\n",
       "      <td>2008</td>\n",
       "      <td>mini</td>\n",
       "      <td>cooper</td>\n",
       "    </tr>\n",
       "    <tr>\n",
       "      <th>1</th>\n",
       "      <td>08/18/2009</td>\n",
       "      <td>Unhappymotorer</td>\n",
       "      <td>I bought my car brand new a year ago -- have l...</td>\n",
       "      <td>It looks cute and was fun to drive...until now...</td>\n",
       "      <td>2008</td>\n",
       "      <td>mini</td>\n",
       "      <td>cooper</td>\n",
       "    </tr>\n",
       "    <tr>\n",
       "      <th>2</th>\n",
       "      <td>08/14/2009</td>\n",
       "      <td>No Fun</td>\n",
       "      <td>I am very disappointed with the engine &amp; autom...</td>\n",
       "      <td>Handling is exceptional and fun. I like the co...</td>\n",
       "      <td>2008</td>\n",
       "      <td>mini</td>\n",
       "      <td>cooper</td>\n",
       "    </tr>\n",
       "    <tr>\n",
       "      <th>3</th>\n",
       "      <td>08/13/2009</td>\n",
       "      <td>MAM</td>\n",
       "      <td>It's a fun car to drive, great gas mileage, cu...</td>\n",
       "      <td>driving it and gas mileage</td>\n",
       "      <td>2008</td>\n",
       "      <td>mini</td>\n",
       "      <td>cooper</td>\n",
       "    </tr>\n",
       "    <tr>\n",
       "      <th>4</th>\n",
       "      <td>08/13/2009</td>\n",
       "      <td>ccs8c</td>\n",
       "      <td>My clutch went out at 14,000 miles, windows fi...</td>\n",
       "      <td>None</td>\n",
       "      <td>2008</td>\n",
       "      <td>mini</td>\n",
       "      <td>cooper</td>\n",
       "    </tr>\n",
       "  </tbody>\n",
       "</table>\n",
       "</div>"
      ],
      "text/plain": [
       "         DATE          AUTHOR  \\\n",
       "0  10/17/2009          kmbkat   \n",
       "1  08/18/2009  Unhappymotorer   \n",
       "2  08/14/2009          No Fun   \n",
       "3  08/13/2009             MAM   \n",
       "4  08/13/2009           ccs8c   \n",
       "\n",
       "                                                TEXT  \\\n",
       "0  Bought my Mini new in 2/08 and the fuel pump w...   \n",
       "1  I bought my car brand new a year ago -- have l...   \n",
       "2  I am very disappointed with the engine & autom...   \n",
       "3  It's a fun car to drive, great gas mileage, cu...   \n",
       "4  My clutch went out at 14,000 miles, windows fi...   \n",
       "\n",
       "                                            FAVORITE  year manufacturer  \\\n",
       "0                                               None  2008         mini   \n",
       "1  It looks cute and was fun to drive...until now...  2008         mini   \n",
       "2  Handling is exceptional and fun. I like the co...  2008         mini   \n",
       "3                         driving it and gas mileage  2008         mini   \n",
       "4                                               None  2008         mini   \n",
       "\n",
       "    model  \n",
       "0  cooper  \n",
       "1  cooper  \n",
       "2  cooper  \n",
       "3  cooper  \n",
       "4  cooper  "
      ]
     },
     "execution_count": 7,
     "metadata": {},
     "output_type": "execute_result"
    }
   ],
   "source": [
    "df.head()"
   ]
  },
  {
   "cell_type": "code",
   "execution_count": null,
   "metadata": {},
   "outputs": [],
   "source": [
    "df.shape"
   ]
  },
  {
   "cell_type": "code",
   "execution_count": null,
   "metadata": {},
   "outputs": [],
   "source": [
    "df.to_csv(\"output.csv\", index=False)"
   ]
  },
  {
   "cell_type": "code",
   "execution_count": null,
   "metadata": {},
   "outputs": [],
   "source": [
    "df[\"manufacturer\"].value_counts()"
   ]
  }
 ],
 "metadata": {
  "kernelspec": {
   "display_name": "Python 3 (ipykernel)",
   "language": "python",
   "name": "python3"
  },
  "language_info": {
   "codemirror_mode": {
    "name": "ipython",
    "version": 3
   },
   "file_extension": ".py",
   "mimetype": "text/x-python",
   "name": "python",
   "nbconvert_exporter": "python",
   "pygments_lexer": "ipython3",
   "version": "3.8.13"
  },
  "vscode": {
   "interpreter": {
    "hash": "21047299851eed5b61a9f73e59545ae031f81177c987d616383d6dc605edc4fa"
   }
  }
 },
 "nbformat": 4,
 "nbformat_minor": 2
}
