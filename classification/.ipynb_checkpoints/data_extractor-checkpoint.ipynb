{
 "cells": [
  {
   "cell_type": "code",
   "execution_count": 5,
   "metadata": {},
   "outputs": [],
   "source": [
    "import pandas as pd\n",
    "from pathlib import Path\n",
    "from tqdm import tqdm"
   ]
  },
  {
   "cell_type": "code",
   "execution_count": 6,
   "metadata": {},
   "outputs": [],
   "source": [
    "from transformers import pipeline"
   ]
  },
  {
   "cell_type": "code",
   "execution_count": 7,
   "metadata": {
    "tags": []
   },
   "outputs": [],
   "source": [
    "df = pd.DataFrame()\n",
    "\n",
    "# Add Code here to extract more data from the text (sentiment etc and add it to the assign function as a lambda. e.g. sentiment = lambda x: sentiment_func(x[\"TEXT\"]) )\n",
    "for path in (Path.cwd() / \"../indexing/Dataset\").glob(\"**/*.xml\"):\n",
    "    year, manufacturer, *model = path.stem.split(\"_\")\n",
    "    try:\n",
    "        with open(path, \"r\", encoding=\"unicode_escape\") as f:\n",
    "            data = f.readlines()\n",
    "        data = \"<root>\" + \"\".join(data[1:]) + \"</root>\"\n",
    "        data = data.replace(\"&\", \"&amp;\")\n",
    "        temp = pd.read_xml(data)\n",
    "        temp = temp.assign(year=year, manufacturer=manufacturer, model=\" \".join(model))\n",
    "        df = pd.concat([df, temp])\n",
    "        # Preprocess text (username and link placeholders)\n",
    "\n",
    "    except Exception as e:\n",
    "        print(path.stem, e)"
   ]
  },
  {
   "cell_type": "code",
   "execution_count": 8,
   "metadata": {},
   "outputs": [
    {
     "name": "stdout",
     "output_type": "stream",
     "text": [
      "         DATE          AUTHOR  \\\n",
      "0  10/17/2009          kmbkat   \n",
      "1  08/18/2009  Unhappymotorer   \n",
      "2  08/14/2009          No Fun   \n",
      "3  08/13/2009             MAM   \n",
      "4  08/13/2009           ccs8c   \n",
      "\n",
      "                                                TEXT  \\\n",
      "0  Bought my Mini new in 2/08 and the fuel pump w...   \n",
      "1  I bought my car brand new a year ago -- have l...   \n",
      "2  I am very disappointed with the engine & autom...   \n",
      "3  It's a fun car to drive, great gas mileage, cu...   \n",
      "4  My clutch went out at 14,000 miles, windows fi...   \n",
      "\n",
      "                                            FAVORITE  year manufacturer  \\\n",
      "0                                               None  2008         mini   \n",
      "1  It looks cute and was fun to drive...until now...  2008         mini   \n",
      "2  Handling is exceptional and fun. I like the co...  2008         mini   \n",
      "3                         driving it and gas mileage  2008         mini   \n",
      "4                                               None  2008         mini   \n",
      "\n",
      "    model  \n",
      "0  cooper  \n",
      "1  cooper  \n",
      "2  cooper  \n",
      "3  cooper  \n",
      "4  cooper  \n"
     ]
    }
   ],
   "source": [
    "print(df.head())"
   ]
  },
  {
   "cell_type": "code",
   "execution_count": null,
   "metadata": {},
   "outputs": [
    {
     "name": "stderr",
     "output_type": "stream",
     "text": [
      "No model was supplied, defaulted to distilbert-base-uncased-finetuned-sst-2-english and revision af0f99b (https://huggingface.co/distilbert-base-uncased-finetuned-sst-2-english).\n",
      "Using a pipeline without specifying a model name and revision in production is not recommended.\n"
     ]
    }
   ],
   "source": [
    "sentiment_pipeline = pipeline(\"sentiment-analysis\")\n",
    "data = df['TEXT'].tolist()[0:10]\n",
    "sentiment_pipeline(data)"
   ]
  },
  {
   "cell_type": "code",
   "execution_count": 55,
   "metadata": {},
   "outputs": [
    {
     "name": "stderr",
     "output_type": "stream",
     "text": [
      "Some weights of the model checkpoint at cardiffnlp/twitter-roberta-base-sentiment-latest were not used when initializing RobertaForSequenceClassification: ['roberta.pooler.dense.weight', 'roberta.pooler.dense.bias']\n",
      "- This IS expected if you are initializing RobertaForSequenceClassification from the checkpoint of a model trained on another task or with another architecture (e.g. initializing a BertForSequenceClassification model from a BertForPreTraining model).\n",
      "- This IS NOT expected if you are initializing RobertaForSequenceClassification from the checkpoint of a model that you expect to be exactly identical (initializing a BertForSequenceClassification model from a BertForSequenceClassification model).\n"
     ]
    },
    {
     "name": "stdout",
     "output_type": "stream",
     "text": [
      "Bought my Mini new in 2/08 and the fuel pump went out at 17000 miles. Although it was covered under warranty I can only guess what troubles lie ahead. I also had to replace one of the run flat tires to the tune of $249. The car is fun to drive and I have adequate space since I no longer have young kids to transport. But once I experience a major mechanical failure I start looking for a new car. I plan to buy a new Honda or Toyota in 2/10.\n",
      "1) negative 0.6369\n",
      "2) neutral 0.2998\n",
      "3) positive 0.0633\n",
      "I bought my car brand new a year ago -- have loved it despite quirks with the windows (no fix for it yet...supposedly coming in late 2008). Drove it responsibly for 14,000 miles in the year to include a trip across country. Now the clutch is \"burnt\" and its not covered under the warranty. They are blaming me, which is ridiculous. I would be wary of buying one again.\n",
      "1) positive 0.5528\n",
      "2) neutral 0.284\n",
      "3) negative 0.1632\n",
      "I am very disappointed with the engine & automatic transmission design. There is a very bad dead zone in the acceleration in 1st from a dead stop. The top squeals when coming up. The maintenance is free but when they don't fix anything it's worthless. The repair shop isn't familiar with the car and can't fix problems. I have had to go back 4 or 5 times before something gets fixed. They have even lied, actually fixed something and said on the repair sheet that there was nothing was wrong. I would not recommend anyone buy this Car with an automatic. The rear view is cluttered and very dangerous to back up. The automation in the controls is stupid, mostly unnecessary and very annoying\n",
      "1) negative 0.9363\n",
      "2) neutral 0.0574\n",
      "3) positive 0.0063\n",
      "It's a fun car to drive, great gas mileage, cute etc, but very expensive for repairs. In one year, I've spent $2500 out of pocket on a car I bought brand new from the dealer, in addition to the gas to get to the dealership (100 miles roundtrip in DC traffic) and taking time off work (they close at 7pm).\n",
      "1) negative 0.5598\n",
      "2) neutral 0.2589\n",
      "3) positive 0.1813\n",
      "My clutch went out at 14,000 miles, windows finicky (don't work all the time). Re the clutch: no explanation other than its my fault from Mini of North American and the dealer; I had to pay for the replacement less than a year after purchasing it. My previous clutches didn't burn out until 60,000-75,000 miles, so I don't understand this, but I won't buy another mini and will sell this one within the year.\n",
      "1) negative 0.8726\n",
      "2) neutral 0.1198\n",
      "3) positive 0.0076\n",
      "This is my second mini. The clutch went out in the first one after 2 1/ years years and only 22000 miles. The cause was determined to be a manufacture defect and was covered. My 2008 Mini S has only 10727 miles and is a standard transmission too. The clutch began slipping on this one. It is currently at the dealer and I am waiting to hear if the repairs are covered. I do not ride the clutch and do not drive aggressively or even need to shift that often (not a lot of stop and go traffic). I have read many posts on other sites about mini's and clutch problems. Buyer be ware!!!\n",
      "1) negative 0.6121\n",
      "2) neutral 0.3547\n",
      "3) positive 0.0332\n",
      "I love my British racing green convertible. The sidewalk package has all the bells and whistles esp the gorgeous brown leather interior. Now they won't make it any more. I am disappointed I wanted a new one only because I think the rear window visibility would be much improved with the retractable roll bars.\n",
      "1) positive 0.489\n",
      "2) negative 0.3149\n",
      "3) neutral 0.1961\n",
      "Had the car for little over a year now. It is an absolute BLAST to drive, and will always put a smile on your face. Fuel economy is phenomenal for a car this fast as well. Lots of cool features, like the folding mirrors, that are more fun the show of than functional, but fun either way. The pushbutton start is cool, but I wish it had the comfort access system. The leatherette looks nice, but I don't like the way it feels. All in all, for $25,550 and the included maintainance, its a lot of fun for the money.\n",
      "1) positive 0.9659\n",
      "2) neutral 0.0254\n",
      "3) negative 0.0087\n",
      "This is my second burgundy Mini. My first was a 1967 that I brought back from Europe. Both cars were/are go- carts. The '67 cornered better, but was underpowered. The '08 has the power but it overpowers the steering. No complaints, mine you! Lord, what a fun car to drive. By the way, the title refers to a carnival ride, \"The Wild Maus.\" It would snap your head off your shoulders, if you weren't careful. Read the complaints: Bumpy ride: It is a sports car - dodge them. Limited space: drop the back seats and think again. Odd radio controls: It has a radio? - who knew! I love to hear it purr!\n",
      "1) positive 0.8239\n",
      "2) neutral 0.1489\n",
      "3) negative 0.0272\n",
      "OMFG THIS THING IS A BLAST!!! From the very get go I fell in love with a car my wife had suggested when I thought of getting a bug... I'm glad I went with the Mini. First of all I commute 184 Miles a day up and down from the mountains. Phx to Payson AZ of an elevation change of over 5000 ft. I needed something reliable and could handle the road and elements. This little car has sold me for LIFE! I love the Tech with the Sports handling. If you're thinking of buying your wasting precious time you could be driving. =)\n",
      "1) positive 0.9733\n",
      "2) neutral 0.0209\n",
      "3) negative 0.0058\n"
     ]
    }
   ],
   "source": [
    "from transformers import AutoModelForSequenceClassification\n",
    "from transformers import TFAutoModelForSequenceClassification\n",
    "from transformers import AutoTokenizer, AutoConfig\n",
    "import numpy as np\n",
    "from scipy.special import softmax\n",
    "# Preprocess text (username and link placeholders)\n",
    "# def preprocess(text):\n",
    "#    new_text = []\n",
    "#    for t in text.split(\" \"):\n",
    "#        t = '@user' if t.startswith('@') and len(t) > 1 else t\n",
    "#        t = 'http' if t.startswith('http') else t\n",
    "#        new_text.append(t)\n",
    "#    return \" \".join(new_text)\n",
    "MODEL = f\"cardiffnlp/twitter-roberta-base-sentiment-latest\"\n",
    "tokenizer = AutoTokenizer.from_pretrained(MODEL)\n",
    "config = AutoConfig.from_pretrained(MODEL)\n",
    "\n",
    "# PT\n",
    "model = AutoModelForSequenceClassification.from_pretrained(MODEL)\n",
    "#model.save_pretrained(MODEL)\n",
    "\n",
    "for x in range(10):\n",
    "    print(df.iloc[x:x+1]['TEXT'].values[0])\n",
    "    text = df.iloc[x:x+1]['TEXT'].values[0]\n",
    "    text = preprocess(text)\n",
    "    encoded_input = tokenizer(text, return_tensors='pt')\n",
    "    output = model(**encoded_input)\n",
    "    scores = output[0][0].detach().numpy()\n",
    "    scores = softmax(scores)\n",
    "    #Print labels and scores\n",
    "    ranking = np.argsort(scores)\n",
    "    ranking = ranking[::-1]\n",
    "    for i in range(scores.shape[0]):\n",
    "        l = config.id2label[ranking[i]]\n",
    "        s = scores[ranking[i]]\n",
    "        print(f\"{i+1}) {l} {np.round(float(s), 4)}\")\n"
   ]
  },
  {
   "cell_type": "code",
   "execution_count": 7,
   "metadata": {},
   "outputs": [
    {
     "data": {
      "text/html": [
       "<div>\n",
       "<style scoped>\n",
       "    .dataframe tbody tr th:only-of-type {\n",
       "        vertical-align: middle;\n",
       "    }\n",
       "\n",
       "    .dataframe tbody tr th {\n",
       "        vertical-align: top;\n",
       "    }\n",
       "\n",
       "    .dataframe thead th {\n",
       "        text-align: right;\n",
       "    }\n",
       "</style>\n",
       "<table border=\"1\" class=\"dataframe\">\n",
       "  <thead>\n",
       "    <tr style=\"text-align: right;\">\n",
       "      <th></th>\n",
       "      <th>DATE</th>\n",
       "      <th>AUTHOR</th>\n",
       "      <th>TEXT</th>\n",
       "      <th>FAVORITE</th>\n",
       "      <th>year</th>\n",
       "      <th>manufacturer</th>\n",
       "      <th>model</th>\n",
       "    </tr>\n",
       "  </thead>\n",
       "  <tbody>\n",
       "    <tr>\n",
       "      <th>0</th>\n",
       "      <td>10/17/2009</td>\n",
       "      <td>kmbkat</td>\n",
       "      <td>Bought my Mini new in 2/08 and the fuel pump w...</td>\n",
       "      <td>None</td>\n",
       "      <td>2008</td>\n",
       "      <td>mini</td>\n",
       "      <td>cooper</td>\n",
       "    </tr>\n",
       "    <tr>\n",
       "      <th>1</th>\n",
       "      <td>08/18/2009</td>\n",
       "      <td>Unhappymotorer</td>\n",
       "      <td>I bought my car brand new a year ago -- have l...</td>\n",
       "      <td>It looks cute and was fun to drive...until now...</td>\n",
       "      <td>2008</td>\n",
       "      <td>mini</td>\n",
       "      <td>cooper</td>\n",
       "    </tr>\n",
       "    <tr>\n",
       "      <th>2</th>\n",
       "      <td>08/14/2009</td>\n",
       "      <td>No Fun</td>\n",
       "      <td>I am very disappointed with the engine &amp; autom...</td>\n",
       "      <td>Handling is exceptional and fun. I like the co...</td>\n",
       "      <td>2008</td>\n",
       "      <td>mini</td>\n",
       "      <td>cooper</td>\n",
       "    </tr>\n",
       "    <tr>\n",
       "      <th>3</th>\n",
       "      <td>08/13/2009</td>\n",
       "      <td>MAM</td>\n",
       "      <td>It's a fun car to drive, great gas mileage, cu...</td>\n",
       "      <td>driving it and gas mileage</td>\n",
       "      <td>2008</td>\n",
       "      <td>mini</td>\n",
       "      <td>cooper</td>\n",
       "    </tr>\n",
       "    <tr>\n",
       "      <th>4</th>\n",
       "      <td>08/13/2009</td>\n",
       "      <td>ccs8c</td>\n",
       "      <td>My clutch went out at 14,000 miles, windows fi...</td>\n",
       "      <td>None</td>\n",
       "      <td>2008</td>\n",
       "      <td>mini</td>\n",
       "      <td>cooper</td>\n",
       "    </tr>\n",
       "  </tbody>\n",
       "</table>\n",
       "</div>"
      ],
      "text/plain": [
       "         DATE          AUTHOR  \\\n",
       "0  10/17/2009          kmbkat   \n",
       "1  08/18/2009  Unhappymotorer   \n",
       "2  08/14/2009          No Fun   \n",
       "3  08/13/2009             MAM   \n",
       "4  08/13/2009           ccs8c   \n",
       "\n",
       "                                                TEXT  \\\n",
       "0  Bought my Mini new in 2/08 and the fuel pump w...   \n",
       "1  I bought my car brand new a year ago -- have l...   \n",
       "2  I am very disappointed with the engine & autom...   \n",
       "3  It's a fun car to drive, great gas mileage, cu...   \n",
       "4  My clutch went out at 14,000 miles, windows fi...   \n",
       "\n",
       "                                            FAVORITE  year manufacturer  \\\n",
       "0                                               None  2008         mini   \n",
       "1  It looks cute and was fun to drive...until now...  2008         mini   \n",
       "2  Handling is exceptional and fun. I like the co...  2008         mini   \n",
       "3                         driving it and gas mileage  2008         mini   \n",
       "4                                               None  2008         mini   \n",
       "\n",
       "    model  \n",
       "0  cooper  \n",
       "1  cooper  \n",
       "2  cooper  \n",
       "3  cooper  \n",
       "4  cooper  "
      ]
     },
     "execution_count": 7,
     "metadata": {},
     "output_type": "execute_result"
    }
   ],
   "source": [
    "df.head()"
   ]
  },
  {
   "cell_type": "code",
   "execution_count": null,
   "metadata": {},
   "outputs": [],
   "source": [
    "df.shape"
   ]
  },
  {
   "cell_type": "code",
   "execution_count": null,
   "metadata": {},
   "outputs": [],
   "source": [
    "df.to_csv(\"output.csv\", index=False)"
   ]
  },
  {
   "cell_type": "code",
   "execution_count": null,
   "metadata": {},
   "outputs": [],
   "source": [
    "df[\"manufacturer\"].value_counts()"
   ]
  },
  {
   "cell_type": "code",
   "execution_count": null,
   "metadata": {},
   "outputs": [],
   "source": []
  }
 ],
 "metadata": {
  "kernelspec": {
   "display_name": "Python 3 (ipykernel)",
   "language": "python",
   "name": "python3"
  },
  "language_info": {
   "codemirror_mode": {
    "name": "ipython",
    "version": 3
   },
   "file_extension": ".py",
   "mimetype": "text/x-python",
   "name": "python",
   "nbconvert_exporter": "python",
   "pygments_lexer": "ipython3",
   "version": "3.9.13"
  },
  "vscode": {
   "interpreter": {
    "hash": "21047299851eed5b61a9f73e59545ae031f81177c987d616383d6dc605edc4fa"
   }
  }
 },
 "nbformat": 4,
 "nbformat_minor": 2
}
