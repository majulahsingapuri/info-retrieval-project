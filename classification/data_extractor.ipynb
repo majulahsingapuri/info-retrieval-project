{
 "cells": [
  {
   "cell_type": "code",
   "execution_count": 1,
   "metadata": {},
   "outputs": [],
   "source": [
    "import pandas as pd\n",
    "from pathlib import Path\n",
    "from tqdm import tqdm"
   ]
  },
  {
   "cell_type": "code",
   "execution_count": 2,
   "metadata": {},
   "outputs": [
    {
     "name": "stderr",
     "output_type": "stream",
     "text": [
      "2023-03-20 15:11:23.565377: I tensorflow/core/platform/cpu_feature_guard.cc:193] This TensorFlow binary is optimized with oneAPI Deep Neural Network Library (oneDNN) to use the following CPU instructions in performance-critical operations:  SSE4.1 SSE4.2 AVX AVX2 FMA\n",
      "To enable them in other operations, rebuild TensorFlow with the appropriate compiler flags.\n"
     ]
    }
   ],
   "source": [
    "from transformers import pipeline"
   ]
  },
  {
   "cell_type": "code",
   "execution_count": 3,
   "metadata": {
    "tags": []
   },
   "outputs": [],
   "source": [
    "df = pd.DataFrame()\n",
    "df = pd.read_csv(\"./label.csv\")\n",
    "# Add Code here to extract more data from the text (sentiment etc and add it to the assign function as a lambda. e.g. sentiment = lambda x: sentiment_func(x[\"TEXT\"]) )\n",
    "# for path in (Path.cwd() / \"../Dataset\").glob(\"**/*.xml\"):\n",
    "#    year, manufacturer, *model = path.stem.split(\"_\")\n",
    "#    try:\n",
    "#        with open(path, \"r\", encoding=\"unicode_escape\") as f:\n",
    "#            data = f.readlines()\n",
    "#        data = \"<root>\" + \"\".join(data[1:]) + \"</root>\"\n",
    "#        data = data.replace(\"&\", \"&amp;\")\n",
    "#        temp = pd.read_xml(data)\n",
    "#        temp = temp.assign(year=year, manufacturer=manufacturer, model=\" \".join(model))\n",
    "#        df = pd.concat([df, temp])\n",
    "        # Preprocess text (username and link placeholders)\n",
    "\n",
    "#    except Exception as e:\n",
    "#        print(path.stem, e)"
   ]
  },
  {
   "cell_type": "code",
   "execution_count": 4,
   "metadata": {},
   "outputs": [],
   "source": [
    "df.rename(columns={\"Unnamed: 0\": \"Initial Index\"}, inplace= True)"
   ]
  },
  {
   "cell_type": "code",
   "execution_count": 5,
   "metadata": {},
   "outputs": [
    {
     "name": "stdout",
     "output_type": "stream",
     "text": [
      "Index(['Initial Index', 'DATE', 'AUTHOR', 'TEXT', 'FAVORITE', 'year',\n",
      "       'manufacturer', 'model', 'label'],\n",
      "      dtype='object')\n"
     ]
    }
   ],
   "source": [
    "print(df.columns)"
   ]
  },
  {
   "cell_type": "code",
   "execution_count": null,
   "metadata": {},
   "outputs": [
    {
     "name": "stderr",
     "output_type": "stream",
     "text": [
      "No model was supplied, defaulted to distilbert-base-uncased-finetuned-sst-2-english and revision af0f99b (https://huggingface.co/distilbert-base-uncased-finetuned-sst-2-english).\n",
      "Using a pipeline without specifying a model name and revision in production is not recommended.\n"
     ]
    }
   ],
   "source": [
    "sentiment_pipeline = pipeline(\"sentiment-analysis\")\n",
    "data = df['TEXT'].tolist()[0:10]\n",
    "sentiment_pipeline(data)"
   ]
  },
  {
   "cell_type": "code",
   "execution_count": 14,
   "metadata": {},
   "outputs": [
    {
     "name": "stderr",
     "output_type": "stream",
     "text": [
      "Some weights of the model checkpoint at cardiffnlp/twitter-roberta-base-sentiment-latest were not used when initializing RobertaForSequenceClassification: ['roberta.pooler.dense.bias', 'roberta.pooler.dense.weight']\n",
      "- This IS expected if you are initializing RobertaForSequenceClassification from the checkpoint of a model trained on another task or with another architecture (e.g. initializing a BertForSequenceClassification model from a BertForPreTraining model).\n",
      "- This IS NOT expected if you are initializing RobertaForSequenceClassification from the checkpoint of a model that you expect to be exactly identical (initializing a BertForSequenceClassification model from a BertForSequenceClassification model).\n"
     ]
    },
    {
     "name": "stdout",
     "output_type": "stream",
     "text": [
      "2    2010\n",
      "0     281\n",
      "1     109\n",
      "dtype: int64\n"
     ]
    }
   ],
   "source": [
    "from transformers import AutoModelForSequenceClassification\n",
    "from transformers import TFAutoModelForSequenceClassification\n",
    "from transformers import AutoTokenizer, AutoConfig\n",
    "import numpy as np\n",
    "from scipy.special import softmax\n",
    "# Preprocess text (username and link placeholders)\n",
    "# def preprocess(text):\n",
    "#    new_text = []\n",
    "#    for t in text.split(\" \"):\n",
    "#        t = '@user' if t.startswith('@') and len(t) > 1 else t\n",
    "#        t = 'http' if t.startswith('http') else t\n",
    "#        new_text.append(t)\n",
    "#    return \" \".join(new_text)\n",
    "MODEL = f\"cardiffnlp/twitter-roberta-base-sentiment-latest\"\n",
    "tokenizer = AutoTokenizer.from_pretrained(MODEL)\n",
    "config = AutoConfig.from_pretrained(MODEL)\n",
    "\n",
    "# PT\n",
    "model = AutoModelForSequenceClassification.from_pretrained(MODEL)\n",
    "#model.save_pretrained(MODEL)\n",
    "scores_posneg = []\n",
    "for x in range(df.shape[0]):\n",
    "    text = df.iloc[x:x+1]['TEXT'].values[0]\n",
    "    # text = preprocess(text)\n",
    "    encoded_input = tokenizer(text, return_tensors='pt')\n",
    "    output = model(**encoded_input)\n",
    "    scores = output[0][0].detach().numpy()\n",
    "    scores = softmax(scores)\n",
    "    # Print labels and scores\n",
    "    ranking = np.argsort(scores)\n",
    "    ranking = ranking[::-1]\n",
    "#    for i in range(scores.shape[0]):\n",
    "#        l = config.id2label[ranking[i]]\n",
    "#        s = scores[ranking[i]]\n",
    "        # pos, neutral, neg\n",
    "    if (config.id2label[ranking[0]] == \"positive\"):\n",
    "            scores_posneg.append(2)\n",
    "    elif(config.id2label[ranking[0]] == \"neutral\"):\n",
    "        scores_posneg.append(1)\n",
    "    else:\n",
    "        scores_posneg.append(0)\n"
   ]
  },
  {
   "cell_type": "code",
   "execution_count": 16,
   "metadata": {},
   "outputs": [],
   "source": [
    "df_scores_posneg = pd.DataFrame(scores_posneg)\n",
    "df['labels_posneg'] = scores_posneg"
   ]
  },
  {
   "cell_type": "code",
   "execution_count": 17,
   "metadata": {},
   "outputs": [
    {
     "data": {
      "text/html": [
       "<div>\n",
       "<style scoped>\n",
       "    .dataframe tbody tr th:only-of-type {\n",
       "        vertical-align: middle;\n",
       "    }\n",
       "\n",
       "    .dataframe tbody tr th {\n",
       "        vertical-align: top;\n",
       "    }\n",
       "\n",
       "    .dataframe thead th {\n",
       "        text-align: right;\n",
       "    }\n",
       "</style>\n",
       "<table border=\"1\" class=\"dataframe\">\n",
       "  <thead>\n",
       "    <tr style=\"text-align: right;\">\n",
       "      <th></th>\n",
       "      <th>Initial Index</th>\n",
       "      <th>DATE</th>\n",
       "      <th>AUTHOR</th>\n",
       "      <th>TEXT</th>\n",
       "      <th>FAVORITE</th>\n",
       "      <th>year</th>\n",
       "      <th>manufacturer</th>\n",
       "      <th>model</th>\n",
       "      <th>label</th>\n",
       "      <th>labels_posneg</th>\n",
       "    </tr>\n",
       "  </thead>\n",
       "  <tbody>\n",
       "    <tr>\n",
       "      <th>0</th>\n",
       "      <td>18455</td>\n",
       "      <td>08/27/2008</td>\n",
       "      <td>tjl</td>\n",
       "      <td>Owned this 07 GL320 CDI for 15 months. Overall...</td>\n",
       "      <td>Great ride. Great handling. Goes a long, long ...</td>\n",
       "      <td>2007</td>\n",
       "      <td>mercedes-benz</td>\n",
       "      <td>gl-class</td>\n",
       "      <td>4</td>\n",
       "      <td>2</td>\n",
       "    </tr>\n",
       "    <tr>\n",
       "      <th>1</th>\n",
       "      <td>9534</td>\n",
       "      <td>04/07/2008</td>\n",
       "      <td>Brad</td>\n",
       "      <td>This is my fourth Explorer and they just keep ...</td>\n",
       "      <td>Sync, Sirius, Class 3/4 trailer hitch set-up w...</td>\n",
       "      <td>2008</td>\n",
       "      <td>ford</td>\n",
       "      <td>explorer</td>\n",
       "      <td>5</td>\n",
       "      <td>2</td>\n",
       "    </tr>\n",
       "    <tr>\n",
       "      <th>2</th>\n",
       "      <td>18250</td>\n",
       "      <td>05/31/2007</td>\n",
       "      <td>Tib=Fun!</td>\n",
       "      <td>If you like the way it looks, you will love th...</td>\n",
       "      <td>The blue backlit displays are awesome. The sou...</td>\n",
       "      <td>2007</td>\n",
       "      <td>hyundai</td>\n",
       "      <td>tiburon</td>\n",
       "      <td>5</td>\n",
       "      <td>2</td>\n",
       "    </tr>\n",
       "    <tr>\n",
       "      <th>3</th>\n",
       "      <td>7395</td>\n",
       "      <td>12/28/2008</td>\n",
       "      <td>crasberry</td>\n",
       "      <td>I realized in the 1st tank of gas that I wasn'...</td>\n",
       "      <td>The vehicle drives great and has plenty of roo...</td>\n",
       "      <td>2008</td>\n",
       "      <td>saturn</td>\n",
       "      <td>outlook</td>\n",
       "      <td>3</td>\n",
       "      <td>0</td>\n",
       "    </tr>\n",
       "    <tr>\n",
       "      <th>4</th>\n",
       "      <td>22773</td>\n",
       "      <td>01/17/2007</td>\n",
       "      <td>Eric H.</td>\n",
       "      <td>Traded in a 06 Honda pilot. Now I have an RX 3...</td>\n",
       "      <td>Power tailgate &amp; the HID light.</td>\n",
       "      <td>2007</td>\n",
       "      <td>lexus</td>\n",
       "      <td>rx 350</td>\n",
       "      <td>4</td>\n",
       "      <td>2</td>\n",
       "    </tr>\n",
       "  </tbody>\n",
       "</table>\n",
       "</div>"
      ],
      "text/plain": [
       "   Initial Index        DATE     AUTHOR  \\\n",
       "0          18455  08/27/2008        tjl   \n",
       "1           9534  04/07/2008       Brad   \n",
       "2          18250  05/31/2007   Tib=Fun!   \n",
       "3           7395  12/28/2008  crasberry   \n",
       "4          22773  01/17/2007    Eric H.   \n",
       "\n",
       "                                                TEXT  \\\n",
       "0  Owned this 07 GL320 CDI for 15 months. Overall...   \n",
       "1  This is my fourth Explorer and they just keep ...   \n",
       "2  If you like the way it looks, you will love th...   \n",
       "3  I realized in the 1st tank of gas that I wasn'...   \n",
       "4  Traded in a 06 Honda pilot. Now I have an RX 3...   \n",
       "\n",
       "                                            FAVORITE  year   manufacturer  \\\n",
       "0  Great ride. Great handling. Goes a long, long ...  2007  mercedes-benz   \n",
       "1  Sync, Sirius, Class 3/4 trailer hitch set-up w...  2008           ford   \n",
       "2  The blue backlit displays are awesome. The sou...  2007        hyundai   \n",
       "3  The vehicle drives great and has plenty of roo...  2008         saturn   \n",
       "4                    Power tailgate & the HID light.  2007          lexus   \n",
       "\n",
       "      model  label  labels_posneg  \n",
       "0  gl-class      4              2  \n",
       "1  explorer      5              2  \n",
       "2   tiburon      5              2  \n",
       "3   outlook      3              0  \n",
       "4    rx 350      4              2  "
      ]
     },
     "execution_count": 17,
     "metadata": {},
     "output_type": "execute_result"
    }
   ],
   "source": [
    "df.head()"
   ]
  },
  {
   "cell_type": "code",
   "execution_count": 18,
   "metadata": {},
   "outputs": [
    {
     "data": {
      "text/plain": [
       "(2400, 10)"
      ]
     },
     "execution_count": 18,
     "metadata": {},
     "output_type": "execute_result"
    }
   ],
   "source": [
    "df.shape"
   ]
  },
  {
   "cell_type": "code",
   "execution_count": 19,
   "metadata": {},
   "outputs": [],
   "source": [
    "df.to_csv(\"label_output.csv\", index=False)"
   ]
  },
  {
   "cell_type": "code",
   "execution_count": null,
   "metadata": {},
   "outputs": [],
   "source": [
    "df[\"manufacturer\"].value_counts()"
   ]
  },
  {
   "cell_type": "code",
   "execution_count": null,
   "metadata": {},
   "outputs": [],
   "source": []
  }
 ],
 "metadata": {
  "kernelspec": {
   "display_name": "Python 3 (ipykernel)",
   "language": "python",
   "name": "python3"
  },
  "language_info": {
   "codemirror_mode": {
    "name": "ipython",
    "version": 3
   },
   "file_extension": ".py",
   "mimetype": "text/x-python",
   "name": "python",
   "nbconvert_exporter": "python",
   "pygments_lexer": "ipython3",
   "version": "3.9.16"
  },
  "vscode": {
   "interpreter": {
    "hash": "21047299851eed5b61a9f73e59545ae031f81177c987d616383d6dc605edc4fa"
   }
  }
 },
 "nbformat": 4,
 "nbformat_minor": 2
}
